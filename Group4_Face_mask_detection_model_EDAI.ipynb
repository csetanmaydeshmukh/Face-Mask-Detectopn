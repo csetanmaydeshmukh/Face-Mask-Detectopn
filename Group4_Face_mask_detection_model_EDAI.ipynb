{
  "nbformat": 4,
  "nbformat_minor": 0,
  "metadata": {
    "accelerator": "GPU",
    "colab": {
      "name": "EDAI First achivement.ipynb",
      "provenance": [],
      "collapsed_sections": []
    },
    "kernelspec": {
      "display_name": "Python 3",
      "name": "python3"
    },
    "language_info": {
      "name": "python"
    }
  },
  "cells": [
    {
      "cell_type": "markdown",
      "metadata": {
        "id": "DRgg_hg-Gpp0"
      },
      "source": [
        "# Mounting the Drive"
      ]
    },
    {
      "cell_type": "code",
      "metadata": {
        "id": "7gsoir-8E-sr",
        "colab": {
          "base_uri": "https://localhost:8080/"
        },
        "outputId": "f8625ae5-ffd0-45d6-9194-e7c159928cc9"
      },
      "source": [
        "from google.colab import drive \n",
        "drive.mount(\"/content/drive\")"
      ],
      "execution_count": null,
      "outputs": [
        {
          "output_type": "stream",
          "name": "stdout",
          "text": [
            "Drive already mounted at /content/drive; to attempt to forcibly remount, call drive.mount(\"/content/drive\", force_remount=True).\n"
          ]
        }
      ]
    },
    {
      "cell_type": "code",
      "metadata": {
        "id": "XtHvXSTODtaY"
      },
      "source": [
        "# Importing essential libraries \n",
        "import tensorflow as tf\n",
        "import matplotlib.pyplot as plt\n",
        "import numpy as np\n",
        "import pandas as pd\n",
        "import cv2\n",
        "from keras.preprocessing import image\n",
        "from PIL import Image\n",
        "from tensorflow.keras.preprocessing.image import ImageDataGenerator\n",
        "from tensorflow.keras import layers"
      ],
      "execution_count": null,
      "outputs": []
    },
    {
      "cell_type": "markdown",
      "metadata": {
        "id": "-OWYYwrz5R_X"
      },
      "source": [
        "##Loading dataset"
      ]
    },
    {
      "cell_type": "code",
      "metadata": {
        "id": "57gjv8K8G8eR"
      },
      "source": [
        "# Normalizing the images using imagedatagenerator\n",
        "train_datagen = ImageDataGenerator(\n",
        "        rescale=1./255,\n",
        "        shear_range=0.1,\n",
        "        zoom_range=0.1,\n",
        "        horizontal_flip=True,\n",
        "        rotation_range=20,\n",
        "        width_shift_range = 0.1,\n",
        "        height_shift_range = 0.1,\n",
        "      )\n",
        "test_datagen = ImageDataGenerator(rescale=1./255)"
      ],
      "execution_count": null,
      "outputs": []
    },
    {
      "cell_type": "code",
      "metadata": {
        "id": "gsXYsNjwclRM",
        "colab": {
          "base_uri": "https://localhost:8080/"
        },
        "outputId": "53208f34-f0f9-4799-f656-5f993903de5a"
      },
      "source": [
        "# Provided the google drive link to upload the dataset\n",
        "# Uploading images with the target size of 128 x 128 pixels in RGB format \n",
        "\n",
        "# train_generator contains the images on which the model is to be train\n",
        "train_generator = train_datagen.flow_from_directory(\n",
        "        '/content/drive/MyDrive/Others/Face Mask Dataset/Train',\n",
        "        target_size=(150,150),\n",
        "         color_mode=\"grayscale\",\n",
        "        batch_size=32,\n",
        "        class_mode='binary')\n",
        "\n",
        "# validation_generator contains the images on which we are validating the model\n",
        "validation_generator = test_datagen.flow_from_directory(\n",
        "        '/content/drive/MyDrive/Others/Face Mask Dataset/Validation',\n",
        "        target_size=(150,150),\n",
        "         color_mode=\"grayscale\",\n",
        "        batch_size=32,\n",
        "        class_mode='binary')"
      ],
      "execution_count": null,
      "outputs": [
        {
          "output_type": "stream",
          "name": "stdout",
          "text": [
            "Found 10000 images belonging to 2 classes.\n",
            "Found 800 images belonging to 2 classes.\n"
          ]
        }
      ]
    },
    {
      "cell_type": "markdown",
      "metadata": {
        "id": "maN1kmjxcrHE"
      },
      "source": [
        "##Library for neural network"
      ]
    },
    {
      "cell_type": "code",
      "metadata": {
        "id": "_OM4j-Bzcnzu"
      },
      "source": [
        "# Importing libraries which require to build model architecture\n",
        "from keras.layers import Dense\n",
        "from keras.models import Sequential\n",
        "from tensorflow.keras.layers import Flatten,BatchNormalization\n",
        "from tensorflow.keras.layers import MaxPooling2D,Conv2D\n",
        "from tensorflow.keras.layers import Input,Activation,Add\n",
        "from tensorflow.keras.models import Model \n",
        "from tensorflow.keras.optimizers import Adam\n",
        "from tensorflow.keras.layers import Conv2D,InputLayer, Dropout, BatchNormalization, Flatten, Dense, MaxPooling2D"
      ],
      "execution_count": null,
      "outputs": []
    },
    {
      "cell_type": "markdown",
      "metadata": {
        "id": "ECAtmN8vR7ZD"
      },
      "source": [
        "## Creating Convolutional Neural Network Model"
      ]
    },
    {
      "cell_type": "code",
      "metadata": {
        "id": "TIKpBo97dRMr"
      },
      "source": [
        "# building seqential model\n",
        "model=Sequential()\n",
        "model.add(Conv2D(32,(3,3),input_shape=(150,150,1),activation=\"relu\"))\n",
        "model.add(MaxPooling2D((2,2)))\n",
        "model.add(BatchNormalization()) \n",
        "model.add(Conv2D(64,(3,3),activation=\"relu\"))\n",
        "model.add(MaxPooling2D((2,2)))\n",
        "model.add(Flatten())\n",
        "model.add(Dense(128,activation=\"relu\"))\n",
        "model.add(Dropout(0.2))\n",
        "model.add(Dense(1,activation=\"sigmoid\"))"
      ],
      "execution_count": null,
      "outputs": []
    },
    {
      "cell_type": "code",
      "metadata": {
        "id": "NTlsPnAX2GOP",
        "colab": {
          "base_uri": "https://localhost:8080/"
        },
        "outputId": "f21f6b02-24e4-4434-b832-7b14bc9e43a6"
      },
      "source": [
        "# Summarizing all the layer in model\n",
        "model.summary()"
      ],
      "execution_count": null,
      "outputs": [
        {
          "output_type": "stream",
          "name": "stdout",
          "text": [
            "Model: \"sequential\"\n",
            "_________________________________________________________________\n",
            " Layer (type)                Output Shape              Param #   \n",
            "=================================================================\n",
            " conv2d (Conv2D)             (None, 148, 148, 32)      320       \n",
            "                                                                 \n",
            " max_pooling2d (MaxPooling2D  (None, 74, 74, 32)       0         \n",
            " )                                                               \n",
            "                                                                 \n",
            " batch_normalization (BatchN  (None, 74, 74, 32)       128       \n",
            " ormalization)                                                   \n",
            "                                                                 \n",
            " conv2d_1 (Conv2D)           (None, 72, 72, 64)        18496     \n",
            "                                                                 \n",
            " max_pooling2d_1 (MaxPooling  (None, 36, 36, 64)       0         \n",
            " 2D)                                                             \n",
            "                                                                 \n",
            " flatten (Flatten)           (None, 82944)             0         \n",
            "                                                                 \n",
            " dense (Dense)               (None, 128)               10616960  \n",
            "                                                                 \n",
            " dropout (Dropout)           (None, 128)               0         \n",
            "                                                                 \n",
            " dense_1 (Dense)             (None, 1)                 129       \n",
            "                                                                 \n",
            "=================================================================\n",
            "Total params: 10,636,033\n",
            "Trainable params: 10,635,969\n",
            "Non-trainable params: 64\n",
            "_________________________________________________________________\n"
          ]
        }
      ]
    },
    {
      "cell_type": "code",
      "metadata": {
        "id": "s1dnegVwhxtr"
      },
      "source": [
        "model.compile(optimizer='adam',loss='binary_crossentropy',metrics=['accuracy'])"
      ],
      "execution_count": null,
      "outputs": []
    },
    {
      "cell_type": "code",
      "metadata": {
        "id": "a0AUGhP2ZuYg"
      },
      "source": [
        "# Adding callback to keep a track on leaning rate and doing neccesory changes\n",
        "from keras.callbacks import EarlyStopping, ReduceLROnPlateau\n",
        "callbacks = [EarlyStopping(patience=4, monitor='val_loss', mode='min'), \n",
        "             ReduceLROnPlateau(patience=2, verbose=1)]             "
      ],
      "execution_count": null,
      "outputs": []
    },
    {
      "cell_type": "code",
      "metadata": {
        "id": "X9pQ4f4WGLBm",
        "colab": {
          "base_uri": "https://localhost:8080/"
        },
        "outputId": "b573cca8-5ff3-4fe7-c128-764bc81f1e2d"
      },
      "source": [
        "# Training the model with 30 epochs and with the batch size of 100\n",
        "n_epochs = 30\n",
        "batch_size = 100\n",
        "history = model.fit(train_generator,  \n",
        "                           epochs=n_epochs, \n",
        "                           callbacks=callbacks,\n",
        "                           validation_data=validation_generator)"
      ],
      "execution_count": null,
      "outputs": [
        {
          "output_type": "stream",
          "name": "stdout",
          "text": [
            "Epoch 1/30\n",
            "313/313 [==============================] - 71s 220ms/step - loss: 0.4974 - accuracy: 0.8510 - val_loss: 0.5629 - val_accuracy: 0.7075 - lr: 0.0010\n",
            "Epoch 2/30\n",
            "313/313 [==============================] - 66s 209ms/step - loss: 0.1833 - accuracy: 0.9296 - val_loss: 0.1180 - val_accuracy: 0.9575 - lr: 0.0010\n",
            "Epoch 3/30\n",
            "313/313 [==============================] - 65s 208ms/step - loss: 0.1564 - accuracy: 0.9404 - val_loss: 0.0520 - val_accuracy: 0.9737 - lr: 0.0010\n",
            "Epoch 4/30\n",
            "313/313 [==============================] - 65s 207ms/step - loss: 0.1309 - accuracy: 0.9517 - val_loss: 0.0537 - val_accuracy: 0.9787 - lr: 0.0010\n",
            "Epoch 5/30\n",
            "313/313 [==============================] - ETA: 0s - loss: 0.1170 - accuracy: 0.9581\n",
            "Epoch 00005: ReduceLROnPlateau reducing learning rate to 0.00010000000474974513.\n",
            "313/313 [==============================] - 65s 207ms/step - loss: 0.1170 - accuracy: 0.9581 - val_loss: 0.2111 - val_accuracy: 0.9025 - lr: 0.0010\n",
            "Epoch 6/30\n",
            "313/313 [==============================] - 65s 208ms/step - loss: 0.0855 - accuracy: 0.9697 - val_loss: 0.0403 - val_accuracy: 0.9862 - lr: 1.0000e-04\n",
            "Epoch 7/30\n",
            "313/313 [==============================] - 65s 208ms/step - loss: 0.0844 - accuracy: 0.9706 - val_loss: 0.0342 - val_accuracy: 0.9887 - lr: 1.0000e-04\n",
            "Epoch 8/30\n",
            "313/313 [==============================] - 65s 207ms/step - loss: 0.0806 - accuracy: 0.9709 - val_loss: 0.0271 - val_accuracy: 0.9887 - lr: 1.0000e-04\n",
            "Epoch 9/30\n",
            "313/313 [==============================] - 66s 210ms/step - loss: 0.0789 - accuracy: 0.9720 - val_loss: 0.0299 - val_accuracy: 0.9925 - lr: 1.0000e-04\n",
            "Epoch 10/30\n",
            "313/313 [==============================] - ETA: 0s - loss: 0.0735 - accuracy: 0.9731\n",
            "Epoch 00010: ReduceLROnPlateau reducing learning rate to 1.0000000474974514e-05.\n",
            "313/313 [==============================] - 65s 207ms/step - loss: 0.0735 - accuracy: 0.9731 - val_loss: 0.0380 - val_accuracy: 0.9887 - lr: 1.0000e-04\n",
            "Epoch 11/30\n",
            "313/313 [==============================] - 65s 207ms/step - loss: 0.0705 - accuracy: 0.9750 - val_loss: 0.0281 - val_accuracy: 0.9912 - lr: 1.0000e-05\n",
            "Epoch 12/30\n",
            "313/313 [==============================] - ETA: 0s - loss: 0.0700 - accuracy: 0.9754\n",
            "Epoch 00012: ReduceLROnPlateau reducing learning rate to 1.0000000656873453e-06.\n",
            "313/313 [==============================] - 65s 207ms/step - loss: 0.0700 - accuracy: 0.9754 - val_loss: 0.0279 - val_accuracy: 0.9900 - lr: 1.0000e-05\n"
          ]
        }
      ]
    },
    {
      "cell_type": "code",
      "metadata": {
        "colab": {
          "base_uri": "https://localhost:8080/",
          "height": 279
        },
        "id": "O7bWbIJwqRkM",
        "outputId": "948a7a95-7984-4612-a472-60cdf25c39ac"
      },
      "source": [
        "# Visulizing the loss functions\n",
        "import matplotlib.pyplot as plt\n",
        "plt.plot(history.history['loss'],label=\"Training loss\")\n",
        "plt.plot(history.history['val_loss'],label=\"Validation loss\")\n",
        "plt.xlabel('epochs')\n",
        "plt.ylabel('loss')\n",
        "plt.legend()\n",
        "plt.show()"
      ],
      "execution_count": null,
      "outputs": [
        {
          "output_type": "display_data",
          "data": {
            "image/png": "[encoded data removed]",
            "text/plain": [
              "<Figure size 432x288 with 1 Axes>"
            ]
          },
          "metadata": {
            "needs_background": "light"
          }
        }
      ]
    },
    {
      "cell_type": "code",
      "metadata": {
        "colab": {
          "base_uri": "https://localhost:8080/",
          "height": 279
        },
        "id": "ZKNCV95Jq2c0",
        "outputId": "3f7b1518-7aeb-4964-973f-b765b19db4da"
      },
      "source": [
        "# Visualizing the accuracy of model\n",
        "plt.plot(history.history['accuracy'],label=\"Training accuracy\")\n",
        "plt.plot(history.history['val_accuracy'],label=\"Validation accuracy\")\n",
        "plt.xlabel('epochs')\n",
        "plt.ylabel('loss')\n",
        "plt.legend()\n",
        "plt.show()"
      ],
      "execution_count": null,
      "outputs": [
        {
          "output_type": "display_data",
          "data": {
            "image/png": "[encoded data removed]",
            "text/plain": [
              "<Figure size 432x288 with 1 Axes>"
            ]
          },
          "metadata": {
            "needs_background": "light"
          }
        }
      ]
    },
    {
      "cell_type": "code",
      "metadata": {
        "id": "xKJYNTS5AHTr"
      },
      "source": [
        "# Saving the model\n",
        "model.save(\"model.h5\",model)"
      ],
      "execution_count": null,
      "outputs": []
    }
  ]
}